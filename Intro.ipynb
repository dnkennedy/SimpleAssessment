{
 "cells": [
  {
   "cell_type": "markdown",
   "id": "b6ba572a-f07f-4bee-8c15-247f8e332386",
   "metadata": {},
   "source": [
    "# Welcome to the NEU 503: Computational Neuroscience Practice Notebook"
   ]
  },
  {
   "cell_type": "markdown",
   "id": "fd07051b-74d0-4721-8c0b-8d3717c55388",
   "metadata": {},
   "source": [
    "For running python scripts, we will be trying to use [Google Colab](https://research.google.com/colaboratory/faq.html)"
   ]
  },
  {
   "cell_type": "code",
   "execution_count": 1,
   "id": "bc91e8b0-b989-4140-bcf8-cce9a9ae4b11",
   "metadata": {},
   "outputs": [
    {
     "name": "stdout",
     "output_type": "stream",
     "text": [
      "Hello World\n"
     ]
    }
   ],
   "source": [
    "print(\"Hello World\")"
   ]
  },
  {
   "cell_type": "code",
   "execution_count": null,
   "id": "8463cf62-a899-4dee-bccd-bafcf97f086a",
   "metadata": {},
   "outputs": [],
   "source": []
  }
 ],
 "metadata": {
  "kernelspec": {
   "display_name": "Python 3 (ipykernel)",
   "language": "python",
   "name": "python3"
  },
  "language_info": {
   "codemirror_mode": {
    "name": "ipython",
    "version": 3
   },
   "file_extension": ".py",
   "mimetype": "text/x-python",
   "name": "python",
   "nbconvert_exporter": "python",
   "pygments_lexer": "ipython3",
   "version": "3.10.14"
  }
 },
 "nbformat": 4,
 "nbformat_minor": 5
}
